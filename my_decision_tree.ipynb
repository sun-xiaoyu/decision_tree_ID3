{
 "cells": [
  {
   "cell_type": "code",
   "execution_count": 1,
   "metadata": {},
   "outputs": [],
   "source": [
    "import numpy as np\n",
    "import pandas as pd\n",
    "import matplotlib.pyplot as plot"
   ]
  },
  {
   "cell_type": "code",
   "execution_count": 2,
   "metadata": {},
   "outputs": [
    {
     "data": {
      "text/html": [
       "<div>\n",
       "<style scoped>\n",
       "    .dataframe tbody tr th:only-of-type {\n",
       "        vertical-align: middle;\n",
       "    }\n",
       "\n",
       "    .dataframe tbody tr th {\n",
       "        vertical-align: top;\n",
       "    }\n",
       "\n",
       "    .dataframe thead th {\n",
       "        text-align: right;\n",
       "    }\n",
       "</style>\n",
       "<table border=\"1\" class=\"dataframe\">\n",
       "  <thead>\n",
       "    <tr style=\"text-align: right;\">\n",
       "      <th></th>\n",
       "      <th>sepal_length</th>\n",
       "      <th>sepal_width</th>\n",
       "      <th>petal_length</th>\n",
       "      <th>petal_width</th>\n",
       "      <th>iris</th>\n",
       "    </tr>\n",
       "  </thead>\n",
       "  <tbody>\n",
       "    <tr>\n",
       "      <th>0</th>\n",
       "      <td>5.1</td>\n",
       "      <td>3.5</td>\n",
       "      <td>1.4</td>\n",
       "      <td>0.2</td>\n",
       "      <td>Iris-setosa</td>\n",
       "    </tr>\n",
       "    <tr>\n",
       "      <th>1</th>\n",
       "      <td>4.9</td>\n",
       "      <td>3.0</td>\n",
       "      <td>1.4</td>\n",
       "      <td>0.2</td>\n",
       "      <td>Iris-setosa</td>\n",
       "    </tr>\n",
       "    <tr>\n",
       "      <th>2</th>\n",
       "      <td>4.7</td>\n",
       "      <td>3.2</td>\n",
       "      <td>1.3</td>\n",
       "      <td>0.2</td>\n",
       "      <td>Iris-setosa</td>\n",
       "    </tr>\n",
       "    <tr>\n",
       "      <th>3</th>\n",
       "      <td>4.6</td>\n",
       "      <td>3.1</td>\n",
       "      <td>1.5</td>\n",
       "      <td>0.2</td>\n",
       "      <td>Iris-setosa</td>\n",
       "    </tr>\n",
       "    <tr>\n",
       "      <th>4</th>\n",
       "      <td>5.0</td>\n",
       "      <td>3.6</td>\n",
       "      <td>1.4</td>\n",
       "      <td>0.2</td>\n",
       "      <td>Iris-setosa</td>\n",
       "    </tr>\n",
       "  </tbody>\n",
       "</table>\n",
       "</div>"
      ],
      "text/plain": [
       "   sepal_length  sepal_width  petal_length  petal_width         iris\n",
       "0           5.1          3.5           1.4          0.2  Iris-setosa\n",
       "1           4.9          3.0           1.4          0.2  Iris-setosa\n",
       "2           4.7          3.2           1.3          0.2  Iris-setosa\n",
       "3           4.6          3.1           1.5          0.2  Iris-setosa\n",
       "4           5.0          3.6           1.4          0.2  Iris-setosa"
      ]
     },
     "execution_count": 2,
     "metadata": {},
     "output_type": "execute_result"
    }
   ],
   "source": [
    "df = pd.read_csv('iris.csv')\n",
    "df.head()"
   ]
  },
  {
   "cell_type": "code",
   "execution_count": 3,
   "metadata": {},
   "outputs": [
    {
     "data": {
      "text/html": [
       "<div>\n",
       "<style scoped>\n",
       "    .dataframe tbody tr th:only-of-type {\n",
       "        vertical-align: middle;\n",
       "    }\n",
       "\n",
       "    .dataframe tbody tr th {\n",
       "        vertical-align: top;\n",
       "    }\n",
       "\n",
       "    .dataframe thead th {\n",
       "        text-align: right;\n",
       "    }\n",
       "</style>\n",
       "<table border=\"1\" class=\"dataframe\">\n",
       "  <thead>\n",
       "    <tr style=\"text-align: right;\">\n",
       "      <th></th>\n",
       "      <th>0</th>\n",
       "      <th>1</th>\n",
       "      <th>2</th>\n",
       "      <th>3</th>\n",
       "    </tr>\n",
       "  </thead>\n",
       "  <tbody>\n",
       "    <tr>\n",
       "      <th>count</th>\n",
       "      <td>150.000000</td>\n",
       "      <td>150.000000</td>\n",
       "      <td>150.000000</td>\n",
       "      <td>150.000000</td>\n",
       "    </tr>\n",
       "    <tr>\n",
       "      <th>mean</th>\n",
       "      <td>5.843333</td>\n",
       "      <td>3.054000</td>\n",
       "      <td>3.758667</td>\n",
       "      <td>1.198667</td>\n",
       "    </tr>\n",
       "    <tr>\n",
       "      <th>std</th>\n",
       "      <td>0.828066</td>\n",
       "      <td>0.433594</td>\n",
       "      <td>1.764420</td>\n",
       "      <td>0.763161</td>\n",
       "    </tr>\n",
       "    <tr>\n",
       "      <th>min</th>\n",
       "      <td>4.300000</td>\n",
       "      <td>2.000000</td>\n",
       "      <td>1.000000</td>\n",
       "      <td>0.100000</td>\n",
       "    </tr>\n",
       "    <tr>\n",
       "      <th>25%</th>\n",
       "      <td>5.100000</td>\n",
       "      <td>2.800000</td>\n",
       "      <td>1.600000</td>\n",
       "      <td>0.300000</td>\n",
       "    </tr>\n",
       "    <tr>\n",
       "      <th>50%</th>\n",
       "      <td>5.800000</td>\n",
       "      <td>3.000000</td>\n",
       "      <td>4.350000</td>\n",
       "      <td>1.300000</td>\n",
       "    </tr>\n",
       "    <tr>\n",
       "      <th>75%</th>\n",
       "      <td>6.400000</td>\n",
       "      <td>3.300000</td>\n",
       "      <td>5.100000</td>\n",
       "      <td>1.800000</td>\n",
       "    </tr>\n",
       "    <tr>\n",
       "      <th>max</th>\n",
       "      <td>7.900000</td>\n",
       "      <td>4.400000</td>\n",
       "      <td>6.900000</td>\n",
       "      <td>2.500000</td>\n",
       "    </tr>\n",
       "  </tbody>\n",
       "</table>\n",
       "</div>"
      ],
      "text/plain": [
       "                0           1           2           3\n",
       "count  150.000000  150.000000  150.000000  150.000000\n",
       "mean     5.843333    3.054000    3.758667    1.198667\n",
       "std      0.828066    0.433594    1.764420    0.763161\n",
       "min      4.300000    2.000000    1.000000    0.100000\n",
       "25%      5.100000    2.800000    1.600000    0.300000\n",
       "50%      5.800000    3.000000    4.350000    1.300000\n",
       "75%      6.400000    3.300000    5.100000    1.800000\n",
       "max      7.900000    4.400000    6.900000    2.500000"
      ]
     },
     "execution_count": 3,
     "metadata": {},
     "output_type": "execute_result"
    }
   ],
   "source": [
    "names = list(df.columns)\n",
    "target = len(names)\n",
    "df.columns = list(range(len(names)))\n",
    "attributes = list(df.columns)[:-1]\n",
    "df.describe()"
   ]
  },
  {
   "cell_type": "code",
   "execution_count": 4,
   "metadata": {
    "scrolled": true
   },
   "outputs": [
    {
     "data": {
      "text/plain": [
       "['sepal_length', 'sepal_width', 'petal_length', 'petal_width', 'iris']"
      ]
     },
     "execution_count": 4,
     "metadata": {},
     "output_type": "execute_result"
    }
   ],
   "source": [
    "names"
   ]
  },
  {
   "cell_type": "code",
   "execution_count": 5,
   "metadata": {},
   "outputs": [
    {
     "data": {
      "text/plain": [
       "[0, 1, 2, 3]"
      ]
     },
     "execution_count": 5,
     "metadata": {},
     "output_type": "execute_result"
    }
   ],
   "source": [
    "attributes"
   ]
  },
  {
   "cell_type": "markdown",
   "metadata": {},
   "source": [
    "## 计算每个属性的Entropy"
   ]
  },
  {
   "cell_type": "code",
   "execution_count": 6,
   "metadata": {},
   "outputs": [],
   "source": [
    "# Calculates the entropy of the given data set for the target attr\n",
    "def entropy(df, targetAttr):\n",
    "    proba = df[targetAttr].value_counts(normalize=True)\n",
    "    entropy = -sum(proba*np.log2(proba))\n",
    "    return entropy"
   ]
  },
  {
   "cell_type": "code",
   "execution_count": 7,
   "metadata": {
    "scrolled": true
   },
   "outputs": [
    {
     "name": "stdout",
     "output_type": "stream",
     "text": [
      "sepal_length 4.822018088381164\n",
      "sepal_width 4.0117097612189285\n",
      "petal_length 5.033829378702223\n",
      "petal_width 4.065662933799394\n",
      "iris 1.584962500721156\n"
     ]
    }
   ],
   "source": [
    "for i in range(5):\n",
    "    print(names[i], entropy(df, i))"
   ]
  },
  {
   "cell_type": "markdown",
   "metadata": {},
   "source": [
    "The most informative attribute is \"petal_length\", followed by \"sepal_length\"  \n",
    "The most uninformative attribute is the 'sepal_width', followed by \"petal_width\" (here the class label \"iris\" is not considered as a attribute)"
   ]
  },
  {
   "cell_type": "markdown",
   "metadata": {},
   "source": [
    "## Build a decision tree using ID3"
   ]
  },
  {
   "cell_type": "code",
   "execution_count": 8,
   "metadata": {},
   "outputs": [],
   "source": [
    "def gain(df, attr, target):\n",
    "    \"\"\"\n",
    "    Calculates the information gain (reduction in entropy) that would\n",
    "    result by splitting the data on the chosen attribute (attr).\n",
    "    \"\"\"\n",
    "    # Calculate the value distributions of the target attribute\n",
    "    val_counts = df[attr].value_counts(normalize=True)\n",
    "    \n",
    "    # Calculate the sum of the entropy for each subset of records weighted\n",
    "    # by their probability of occuring in the training set.\n",
    "    subset_entropy = 0.0\n",
    "    for val in val_counts.index:\n",
    "        val_prob = val_counts[val]\n",
    "        sub_df = df[df[attr]==val]\n",
    "        subset_entropy += val_prob * entropy(sub_df, target)\n",
    "    return (entropy(df, target) - subset_entropy)\n",
    "\n",
    "def choose_attr(df, attributes, target):\n",
    "    best = attributes[0]\n",
    "    max_gain = 0;\n",
    "    for attr in attributes:\n",
    "        new_gain = gain(df, attr, target) \n",
    "        if new_gain > max_gain:\n",
    "            max_gain = new_gain\n",
    "            best = attr\n",
    "    return best\n",
    "\n",
    "def make_tree(df, attributes, target):\n",
    "    # If all the records in the dataset have the same classification, return that classification.\n",
    "    unique_vals = df[target].unique()\n",
    "    if len(unique_vals) == 1:\n",
    "        return unique_vals[0]\n",
    "    else:\n",
    "        # Choose the next best attribute to best classify our data\n",
    "        best = choose_attr(df, attributes, target)\n",
    "        # Create a new decision tree/node with the best attribute and an empty\n",
    "        # dictionary object--we'll fill that up next.\n",
    "        tree = {names[best]:{}}\n",
    "    \n",
    "        # Create a new decision tree/sub-node for each of the values in the\n",
    "        # best attribute field\n",
    "        for val in df[best].unique():\n",
    "            # Create a subtree for the current value under the \"best\" field\n",
    "            examples = df[df[best] == val]\n",
    "            new_attr = attributes[:]\n",
    "            new_attr.remove(best)\n",
    "            subtree = make_tree(examples, new_attr, target)\n",
    "    \n",
    "            # Add the new subtree to the empty dictionary object in our new\n",
    "            # tree/node we just created.\n",
    "            tree[names[best]][val] = subtree\n",
    "    \n",
    "    return tree"
   ]
  },
  {
   "cell_type": "code",
   "execution_count": 9,
   "metadata": {},
   "outputs": [
    {
     "data": {
      "text/plain": [
       "{'petal_length': {1.4: 'Iris-setosa',\n",
       "  1.3: 'Iris-setosa',\n",
       "  1.5: 'Iris-setosa',\n",
       "  1.7: 'Iris-setosa',\n",
       "  1.6: 'Iris-setosa',\n",
       "  1.1: 'Iris-setosa',\n",
       "  1.2: 'Iris-setosa',\n",
       "  1.0: 'Iris-setosa',\n",
       "  1.9: 'Iris-setosa',\n",
       "  4.7: 'Iris-versicolor',\n",
       "  4.5: {'sepal_length': {6.4: 'Iris-versicolor',\n",
       "    5.7: 'Iris-versicolor',\n",
       "    5.6: 'Iris-versicolor',\n",
       "    6.2: 'Iris-versicolor',\n",
       "    6.0: 'Iris-versicolor',\n",
       "    5.4: 'Iris-versicolor',\n",
       "    4.9: 'Iris-virginica'}},\n",
       "  4.9: {'sepal_width': {3.1: 'Iris-versicolor',\n",
       "    2.5: 'Iris-versicolor',\n",
       "    2.8: 'Iris-virginica',\n",
       "    2.7: 'Iris-virginica',\n",
       "    3.0: 'Iris-virginica'}},\n",
       "  4.0: 'Iris-versicolor',\n",
       "  4.6: 'Iris-versicolor',\n",
       "  3.3: 'Iris-versicolor',\n",
       "  3.9: 'Iris-versicolor',\n",
       "  3.5: 'Iris-versicolor',\n",
       "  4.2: 'Iris-versicolor',\n",
       "  3.6: 'Iris-versicolor',\n",
       "  4.4: 'Iris-versicolor',\n",
       "  4.1: 'Iris-versicolor',\n",
       "  4.8: {'sepal_length': {5.9: 'Iris-versicolor',\n",
       "    6.8: 'Iris-versicolor',\n",
       "    6.2: 'Iris-virginica',\n",
       "    6.0: 'Iris-virginica'}},\n",
       "  4.3: 'Iris-versicolor',\n",
       "  5.0: {'sepal_length': {6.7: 'Iris-versicolor',\n",
       "    5.7: 'Iris-virginica',\n",
       "    6.0: 'Iris-virginica',\n",
       "    6.3: 'Iris-virginica'}},\n",
       "  3.8: 'Iris-versicolor',\n",
       "  3.7: 'Iris-versicolor',\n",
       "  5.1: {'sepal_length': {6.0: 'Iris-versicolor',\n",
       "    5.8: 'Iris-virginica',\n",
       "    6.5: 'Iris-virginica',\n",
       "    6.3: 'Iris-virginica',\n",
       "    6.9: 'Iris-virginica',\n",
       "    5.9: 'Iris-virginica'}},\n",
       "  3.0: 'Iris-versicolor',\n",
       "  6.0: 'Iris-virginica',\n",
       "  5.9: 'Iris-virginica',\n",
       "  5.6: 'Iris-virginica',\n",
       "  5.8: 'Iris-virginica',\n",
       "  6.6: 'Iris-virginica',\n",
       "  6.3: 'Iris-virginica',\n",
       "  6.1: 'Iris-virginica',\n",
       "  5.3: 'Iris-virginica',\n",
       "  5.5: 'Iris-virginica',\n",
       "  6.7: 'Iris-virginica',\n",
       "  6.9: 'Iris-virginica',\n",
       "  5.7: 'Iris-virginica',\n",
       "  6.4: 'Iris-virginica',\n",
       "  5.4: 'Iris-virginica',\n",
       "  5.2: 'Iris-virginica'}}"
      ]
     },
     "execution_count": 9,
     "metadata": {},
     "output_type": "execute_result"
    }
   ],
   "source": [
    "#Run ID3\n",
    "tree = make_tree(df, attributes, 4)\n",
    "tree"
   ]
  }
 ],
 "metadata": {
  "kernelspec": {
   "display_name": "Python 3",
   "language": "python",
   "name": "python3"
  },
  "language_info": {
   "codemirror_mode": {
    "name": "ipython",
    "version": 3
   },
   "file_extension": ".py",
   "mimetype": "text/x-python",
   "name": "python",
   "nbconvert_exporter": "python",
   "pygments_lexer": "ipython3",
   "version": "3.7.3"
  }
 },
 "nbformat": 4,
 "nbformat_minor": 2
}
